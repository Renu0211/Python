{
 "cells": [
  {
   "cell_type": "code",
   "execution_count": 1,
   "metadata": {},
   "outputs": [
    {
     "name": "stdout",
     "output_type": "stream",
     "text": [
      "20\n"
     ]
    }
   ],
   "source": [
    "a=10\n",
    "b=10\n",
    "print(a+b)"
   ]
  },
  {
   "cell_type": "code",
   "execution_count": 1,
   "metadata": {},
   "outputs": [
    {
     "name": "stdout",
     "output_type": "stream",
     "text": [
      "50\n"
     ]
    }
   ],
   "source": [
    "a=20\n",
    "b=30\n",
    "c=a+b\n",
    "print(a+b)"
   ]
  },
  {
   "cell_type": "code",
   "execution_count": 2,
   "metadata": {},
   "outputs": [
    {
     "name": "stdout",
     "output_type": "stream",
     "text": [
      "-10\n"
     ]
    }
   ],
   "source": [
    "a=20\n",
    "b=30\n",
    "c=a-b\n",
    "print(c)"
   ]
  },
  {
   "cell_type": "code",
   "execution_count": 3,
   "metadata": {},
   "outputs": [
    {
     "name": "stdout",
     "output_type": "stream",
     "text": [
      "Total 600\n"
     ]
    }
   ],
   "source": [
    "a=20\n",
    "b=30\n",
    "c=a*b\n",
    "print(\"Total\",c)"
   ]
  },
  {
   "cell_type": "code",
   "execution_count": 4,
   "metadata": {},
   "outputs": [
    {
     "name": "stdout",
     "output_type": "stream",
     "text": [
      "Total 0.6666666666666666\n"
     ]
    }
   ],
   "source": [
    "a=20\n",
    "b=30\n",
    "print(\"Total\",a/b)"
   ]
  },
  {
   "cell_type": "code",
   "execution_count": 6,
   "metadata": {},
   "outputs": [
    {
     "name": "stdout",
     "output_type": "stream",
     "text": [
      "50 is the addition of two numbers\n"
     ]
    }
   ],
   "source": [
    "a=20\n",
    "b=30\n",
    "print(a+b,\"is the addition of two numbers\")"
   ]
  },
  {
   "cell_type": "code",
   "execution_count": 7,
   "metadata": {},
   "outputs": [
    {
     "name": "stdout",
     "output_type": "stream",
     "text": [
      "50 is the addition and substraction is -10\n"
     ]
    }
   ],
   "source": [
    "a=20\n",
    "b=30\n",
    "print(a+b,\"is the addition and substraction is\",a-b)"
   ]
  },
  {
   "cell_type": "code",
   "execution_count": 1,
   "metadata": {},
   "outputs": [
    {
     "name": "stdout",
     "output_type": "stream",
     "text": [
      "78.5\n",
      "78.5\n",
      "Total radius is 78.5\n",
      "total radius 78.5\n",
      "78.5 is the final radius\n",
      "78.5 78.5\n"
     ]
    }
   ],
   "source": [
    "#circle\n",
    "p=3.14\n",
    "r=5\n",
    "radius=p*r*r\n",
    "print(radius)\n",
    "print(p*r*r)\n",
    "print(\"Total radius is\",radius)\n",
    "print(\"total radius\",p*r*r)\n",
    "print(p*r*r,\"is the final radius\")\n",
    "print(p*r*r,radius)"
   ]
  },
  {
   "cell_type": "code",
   "execution_count": 1,
   "metadata": {},
   "outputs": [
    {
     "name": "stdout",
     "output_type": "stream",
     "text": [
      "Enter value of length=20\n",
      "Enter value of width10\n"
     ]
    }
   ],
   "source": [
    "l=int(input(\"Enter value of length=\"))\n",
    "w=input(\"Enter value of width\")\n"
   ]
  },
  {
   "cell_type": "code",
   "execution_count": 2,
   "metadata": {},
   "outputs": [
    {
     "name": "stdout",
     "output_type": "stream",
     "text": [
      "Enter length10\n",
      "Enter width20\n",
      "60 is parameter and area is 200\n"
     ]
    }
   ],
   "source": [
    "#rectangle\n",
    "l=int(input(\"Enter length\"))\n",
    "w=int(input(\"Enter width\"))\n",
    "para=2*l+2*w\n",
    "area=l*w\n",
    "print(para,\"is parameter and area is\",area)"
   ]
  },
  {
   "cell_type": "code",
   "execution_count": 1,
   "metadata": {},
   "outputs": [
    {
     "name": "stdout",
     "output_type": "stream",
     "text": [
      "Enter base=20\n",
      "Enter height=25\n",
      "250.0\n"
     ]
    }
   ],
   "source": [
    "#triangle\n",
    "b=float(input(\"Enter base=\"))\n",
    "h=float(input(\"Enter height=\"))\n",
    "area=0.5*b*h\n",
    "print(area)"
   ]
  },
  {
   "cell_type": "code",
   "execution_count": 1,
   "metadata": {},
   "outputs": [
    {
     "name": "stdout",
     "output_type": "stream",
     "text": [
      "Enter value for sides:4\n",
      "16\n"
     ]
    }
   ],
   "source": [
    "#square\n",
    "s=int(input(\"Enter value for sides:\"))\n",
    "p=4*s\n",
    "print(p)"
   ]
  },
  {
   "cell_type": "code",
   "execution_count": 8,
   "metadata": {},
   "outputs": [
    {
     "ename": "SyntaxError",
     "evalue": "invalid syntax (<ipython-input-8-e3a0f4d27a7f>, line 1)",
     "output_type": "error",
     "traceback": [
      "\u001b[1;36m  File \u001b[1;32m\"<ipython-input-8-e3a0f4d27a7f>\"\u001b[1;36m, line \u001b[1;32m1\u001b[0m\n\u001b[1;33m    print('Renu's)\u001b[0m\n\u001b[1;37m                ^\u001b[0m\n\u001b[1;31mSyntaxError\u001b[0m\u001b[1;31m:\u001b[0m invalid syntax\n"
     ]
    }
   ],
   "source": [
    "print('Renu's)"
   ]
  },
  {
   "cell_type": "code",
   "execution_count": 9,
   "metadata": {},
   "outputs": [
    {
     "name": "stdout",
     "output_type": "stream",
     "text": [
      "Renu's\n"
     ]
    }
   ],
   "source": [
    "print(\"Renu's\")"
   ]
  },
  {
   "cell_type": "code",
   "execution_count": null,
   "metadata": {},
   "outputs": [],
   "source": []
  }
 ],
 "metadata": {
  "kernelspec": {
   "display_name": "Python 3",
   "language": "python",
   "name": "python3"
  },
  "language_info": {
   "codemirror_mode": {
    "name": "ipython",
    "version": 3
   },
   "file_extension": ".py",
   "mimetype": "text/x-python",
   "name": "python",
   "nbconvert_exporter": "python",
   "pygments_lexer": "ipython3",
   "version": "3.7.11"
  }
 },
 "nbformat": 4,
 "nbformat_minor": 4
}
